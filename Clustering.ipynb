{
 "cells": [
  {
   "cell_type": "code",
   "execution_count": 1,
   "metadata": {},
   "outputs": [],
   "source": [
    "import numpy as np\n",
    "import random\n",
    "from collections import defaultdict\n",
    "from scipy.sparse import csr_matrix\n",
    "from sklearn.utils import shuffle\n",
    "from sklearn.metrics import calinski_harabasz_score"
   ]
  },
  {
   "cell_type": "code",
   "execution_count": 2,
   "metadata": {},
   "outputs": [],
   "source": [
    "def read_csr(filename, filetype=\"csr\", noidx=1):\n",
    "   \n",
    "    with open(filename) as f:\n",
    "        fileline = f.readlines()\n",
    "    \n",
    "    if filetype == \"csr\":\n",
    "        rows = len(fileline)\n",
    "        cols = 0 \n",
    "        nz = 0 \n",
    "        for i in range(rows):\n",
    "            p = fileline[i].split()\n",
    "            if len(p) % 2 != 0:\n",
    "                raise ValueError(\"CSR matrix is invalid as the row no %d contains %d numbers.\" % (i, len(p)))\n",
    "            nz += int(len(p)/2)\n",
    "            for j in range(0, len(p), 2): \n",
    "                colId = int(p[j]) - noidx\n",
    "                if colId+1 > cols:\n",
    "                    cols = colId+1\n",
    "                    \n",
    "    elif filetype == \"clu\":\n",
    "        p = fileline[0].split()\n",
    "        rows = int(p[0])\n",
    "        cols = int(p[1])\n",
    "        nz = long(p[2])\n",
    "        fileline = fileline[1:]\n",
    "        assert(len(fileline) == rows)\n",
    "        \n",
    "    else:\n",
    "        raise ValueError(\"Sparse matrix is invalid filetype '%s'.\" % filetype)\n",
    "    value = np.zeros(nz, dtype=int)\n",
    "    ind = np.zeros(nz, dtype=int)\n",
    "    ptr = np.zeros(rows+1, dtype=np.compat.long)\n",
    "    n = 0 \n",
    "    for i in range(rows):\n",
    "        p = fileline[i].split()\n",
    "        for j in range(0, len(p), 2): \n",
    "            ind[n] = int(p[j]) - noidx\n",
    "            value[n] = int(p[j+1])\n",
    "            n += 1\n",
    "        ptr[i+1] = n \n",
    "    \n",
    "    assert(n == nz)\n",
    "    \n",
    "    return csr_matrix((val, ind, ptr), shape=(rows, cols), dtype=float)"
   ]
  },
  {
   "cell_type": "code",
   "execution_count": 3,
   "metadata": {},
   "outputs": [],
   "source": [
    "def idf_csr(mat, copy=False, **arg):\n",
    "    if copy is True:\n",
    "        mat = mat.copy()\n",
    "    rows = mat.shape[0]\n",
    "    nz = mat.nz\n",
    "    indices, values, pointer = mat.indices, mat.data, mat.indptr\n",
    "\n",
    "    defaultDt = defaultdict(int)\n",
    "    for i in indices:\n",
    "        defaultDt[i] += 1\n",
    "    for k,v in defaultDt.items():\n",
    "        defaultDt[k] = np.log(rows / float(v))  \n",
    "    for i in range(0, nz):\n",
    "        values[i] *= defaultDt[indices[i]]\n",
    "        \n",
    "    return defaultDt \n",
    "\n",
    "if copy is False else mat"
   ]
  },
  {
   "cell_type": "code",
   "execution_count": 4,
   "metadata": {},
   "outputs": [],
   "source": [
    "def l2normalize_csr(mat, copy=False, **arg):\n",
    "  \n",
    "    if copy is True:\n",
    "        mat = mat.copy()\n",
    "    rows = mat.shape[0]\n",
    "    nz = mat.nz\n",
    "    indices, values, pointer = mat.indices, mat.data, mat.indptr\n",
    "    for i in range(rows):\n",
    "        rsum = 0.0    \n",
    "        for j in range(pointer[i], pointer[i+1]):\n",
    "            rsum += values[j]**2\n",
    "        if rsum == 0.0:\n",
    "            continue\n",
    "        rsum = float(1.0/np.sqrt(rsum))\n",
    "        for j in range(pointer[i], pointer[i+1]):\n",
    "            values[j] *= rsum\n",
    "            \n",
    "    if copy is True:\n",
    "        return mat"
   ]
  },
  {
   "cell_type": "code",
   "execution_count": 5,
   "metadata": {},
   "outputs": [],
   "source": [
    "def initCentroids(mat):\n",
    "    matrixShuffled = shuffle(mat, random_state=0)\n",
    "    return matrixShuffled[:2,:]"
   ]
  },
  {
   "cell_type": "code",
   "execution_count": 6,
   "metadata": {},
   "outputs": [],
   "source": [
    "def calculateSimilarity(mat, centroids):\n",
    "    sims = mat.dot(centroids.T)\n",
    "    return sims"
   ]
  },
  {
   "cell_type": "code",
   "execution_count": 7,
   "metadata": {},
   "outputs": [],
   "source": [
    "def findingClusters(mat, centroids):\n",
    "    \n",
    "    clusterOne = list()\n",
    "    clusterTwo = list()\n",
    "    \n",
    "    simMatrix = calculateSimilarity(mat, centroids)\n",
    "    \n",
    "    for index in range(simMatrix.shape[0]):\n",
    "        simRow = simMatrix[index]\n",
    "        simSorted = np.argsort(simRow)[-1]\n",
    "        \n",
    "        if simSorted == 0:\n",
    "            clusterOne.append(index)\n",
    "        else:\n",
    "            clusterTwo.append(index)\n",
    "        \n",
    "    return clusterOne, clusterTwo"
   ]
  },
  {
   "cell_type": "code",
   "execution_count": 8,
   "metadata": {},
   "outputs": [],
   "source": [
    "def recalculationForNewCentroid(mat, clusters):\n",
    "    centroids = list()\n",
    "    \n",
    "    for i in range(0,2):\n",
    "        cluster = mat[clusters[i],:]\n",
    "        clustersMean = cluster.mean(0)\n",
    "        centroids.append(clustersMean)\n",
    "        \n",
    "    centroidsArr = np.asarray(centroids)\n",
    "    \n",
    "    return centroidsArr"
   ]
  },
  {
   "cell_type": "code",
   "execution_count": 9,
   "metadata": {},
   "outputs": [],
   "source": [
    "def kmeansClustering(mat, noOfIterations):\n",
    "    \n",
    "    centroids = initCentroids(mat)\n",
    "    \n",
    "    for _ in range(noOfIterations):\n",
    "        \n",
    "        clusters = list()\n",
    "        \n",
    "        clusterOne, clusterTwo = findingClusters(mat, centroids)\n",
    "        \n",
    "        if len(clusterOne) > 1:\n",
    "            clusters.append(clusterOne)\n",
    "        if len(clusterTwo) > 1:\n",
    "            clusters.append(clusterTwo)\n",
    "            \n",
    "        centroids = recalculationForNewCentroid(mat, clusters)\n",
    "        \n",
    "    return clusterOne, clusterTwo"
   ]
  },
  {
   "cell_type": "code",
   "execution_count": 10,
   "metadata": {},
   "outputs": [],
   "source": [
    "def calSSE(mat, clusters):\n",
    "    \n",
    "    list_SSE = list()\n",
    "    array_SSE = []\n",
    "    \n",
    "    for clu in clusters:\n",
    "        members = mat[clu,:]\n",
    "        SSE = np.sum(np.square(members - np.mean(members)))\n",
    "        list_SSE.append(SSE)\n",
    "        \n",
    "    array_SSE = np.asarray(list_SSE)\n",
    "    dropCluIndex = np.argsort(array_SSE)[-1]\n",
    "            \n",
    "    return dropCluIndex"
   ]
  },
  {
   "cell_type": "code",
   "execution_count": 11,
   "metadata": {},
   "outputs": [],
   "source": [
    "def bisecting_kmeans_clustering(mat, k, noOfIterations):\n",
    "    \n",
    "    clusters = list()\n",
    "    \n",
    "    initcluster = list()\n",
    "    for i in range(mat.shape[0]):\n",
    "        initcluster.append(i)\n",
    "    \n",
    "    clusters.append(initcluster)\n",
    "    \n",
    "    while len(clusters) < k:\n",
    "\n",
    "        dropCluIndex = calSSE(mat, clusters)\n",
    "        droppedCluster = clusters[dropCluIndex]\n",
    "        \n",
    "        clusterOne, clusterTwo = kmeansClustering(mat[droppedCluster,:], noOfIterations)\n",
    "        del clusters[dropCluIndex]\n",
    "        \n",
    "        actualClusterOne = list()\n",
    "        actualClusterTwo = list()\n",
    "        for index in clusterOne:\n",
    "            actualClusterOne.append(droppedCluster[index])\n",
    "            \n",
    "        for index in clusterTwo:\n",
    "            actualClusterTwo.append(droppedCluster[index])\n",
    "        \n",
    "        clusters.append(actualClusterOne)\n",
    "        clusters.append(actualClusterTwo)\n",
    "    \n",
    "    labels = [0] * mat.shape[0]\n",
    "\n",
    "    for index, cluster in enumerate(clusters):\n",
    "        for idx in cluster:\n",
    "            labels[idx] = index + 1\n",
    "    return labels"
   ]
  },
  {
   "cell_type": "code",
   "execution_count": 12,
   "metadata": {},
   "outputs": [
    {
     "name": "stderr",
     "output_type": "stream",
     "text": [
      "c:\\users\\ksk\\opencv\\lib\\site-packages\\ipykernel_launcher.py:39: DeprecationWarning: `np.long` is a deprecated alias for `np.compat.long`. To silence this warning, use `np.compat.long` by itself. In the likely event your code does not need to work on Python 2 you can use the builtin `int` for which `np.compat.long` is itself an alias. Doing this will not modify any behaviour and is safe. When replacing `np.long`, you may wish to use e.g. `np.int64` or `np.int32` to specify the precision. If you wish to review your current use, check the release note link for additional information.\n",
      "Deprecated in NumPy 1.20; for more details and guidance: https://numpy.org/devdocs/release/1.20.0-notes.html#deprecations\n",
      "c:\\users\\ksk\\opencv\\lib\\site-packages\\ipykernel_launcher.py:51: DeprecationWarning: `np.float` is a deprecated alias for the builtin `float`. To silence this warning, use `float` by itself. Doing this will not modify any behavior and is safe. If you specifically wanted the numpy scalar type, use `np.float64` here.\n",
      "Deprecated in NumPy 1.20; for more details and guidance: https://numpy.org/devdocs/release/1.20.0-notes.html#deprecations\n"
     ]
    }
   ],
   "source": [
    "\n",
    "inputCSRMatrix = read_csr('train.dat.csr', filetype=\"csr\", noidx=1)\n",
    "idfCSR = idf_csr(inputCSRMatrix, copy=True)\n",
    "\n",
    "normalized_csr = l2normalize_csr(idfCSR, copy=True)\n",
    "denseMatrix = normalized_csr.toarray()"
   ]
  },
  {
   "cell_type": "code",
   "execution_count": null,
   "metadata": {},
   "outputs": [
    {
     "name": "stdout",
     "output_type": "stream",
     "text": [
      "For K= 3 Calinski Harabaz Score is 63.080976\n"
     ]
    }
   ],
   "source": [
    "kValues = list()\n",
    "scores = list()\n",
    "\n",
    "for k in range(3, 22, 2):\n",
    "    labels = bisecting_kmeans_clustering(denseMatrix, k, 10)\n",
    "    \n",
    "    if (k == 7):\n",
    "        outputFile = open(\"output.dat\", \"w\")\n",
    "        for index in labels:\n",
    "            outputFile.write(str(index) +'\\n')\n",
    "        outputFile.close()\n",
    "\n",
    "    score = calinski_harabasz_score(denseMatrix, labels)\n",
    "    kValues.append(k)\n",
    "    scores.append(score)\n",
    "    \n",
    "    print (\"For K= %d Calinski Harabaz Score is %f\" %(k, score))"
   ]
  },
  {
   "cell_type": "code",
   "execution_count": 14,
   "metadata": {},
   "outputs": [
    {
     "data": {
      "image/png": "[encoded data removed]",
      "text/plain": [
       "<Figure size 432x288 with 1 Axes>"
      ]
     },
     "metadata": {
      "needs_background": "light"
     },
     "output_type": "display_data"
    }
   ],
   "source": [
    "%matplotlib inline\n",
    "import matplotlib.pyplot as plotter\n",
    "\n",
    "plotter.plot(kValues, scores)\n",
    "plotter.xticks(kValues, kValues)\n",
    "plotter.xlabel('Number of Clusters k')\n",
    "plotter.ylabel('Calinski - Harabasz Score')\n",
    "plotter.title('Trend of Average Distance - Diameter')\n",
    "plotter.grid(linestyle='dotted')\n",
    "\n",
    "plotter.savefig('plot.png')\n",
    "plotter.show()"
   ]
  },
  {
   "cell_type": "code",
   "execution_count": null,
   "metadata": {},
   "outputs": [],
   "source": []
  }
 ],
 "metadata": {
  "kernelspec": {
   "display_name": "Python 3",
   "language": "python",
   "name": "python3"
  },
  "language_info": {
   "codemirror_mode": {
    "name": "ipython",
    "version": 3
   },
   "file_extension": ".py",
   "mimetype": "text/x-python",
   "name": "python",
   "nbconvert_exporter": "python",
   "pygments_lexer": "ipython3",
   "version": "3.7.4"
  }
 },
 "nbformat": 4,
 "nbformat_minor": 2
}
